{
 "cells": [
  {
   "cell_type": "markdown",
   "metadata": {},
   "source": [
    "<h2> FaaS Demo </h2>"
   ]
  },
  {
   "cell_type": "code",
   "execution_count": null,
   "metadata": {},
   "outputs": [],
   "source": [
    "import requests\n",
    "import json\n",
    "from flask import Flask, render_template\n",
    "\n",
    "\n",
    "app = Flask(__name__)\n",
    "\n",
    "@app.route(\"/\")\n",
    "def main():\n",
    "    response = requests.get('http://faas-demo.llnw.net/button')\n",
    "    response_data = response.json()\n",
    "    \n",
    "    return render_template('buttons.html', value = response_data)\n",
    "\n",
    "@app.route(\"/button/<mac_address>\")\n",
    "def button_stats(mac_address):\n",
    "    s_resp = requests.get('http://faas-demo.llnw.net/button?stats='+mac_address)\n",
    "    s_resp_data = s_resp.json()\n",
    "    s_resp_data = s_resp.json()\n",
    "    per5min = s_resp_data['per5min']\n",
    "    detail_stats = json.dumps(per5min)\n",
    "    return render_template('stats.html', value = s_resp_data, \n",
    "                           value2 = detail_stats)\n",
    "\n",
    "if __name__ == '__main__':\n",
    "    app.run(debug=False)"
   ]
  }
 ],
 "metadata": {
  "kernelspec": {
   "display_name": "Python [conda env:anaconda3]",
   "language": "python",
   "name": "conda-env-anaconda3-py"
  },
  "language_info": {
   "codemirror_mode": {
    "name": "ipython",
    "version": 3
   },
   "file_extension": ".py",
   "mimetype": "text/x-python",
   "name": "python",
   "nbconvert_exporter": "python",
   "pygments_lexer": "ipython3",
   "version": "3.6.3"
  }
 },
 "nbformat": 4,
 "nbformat_minor": 2
}
